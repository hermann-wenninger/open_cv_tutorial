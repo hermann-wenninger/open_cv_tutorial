{
 "cells": [
  {
   "cell_type": "code",
   "execution_count": 27,
   "metadata": {},
   "outputs": [
    {
     "name": "stdout",
     "output_type": "stream",
     "text": [
      "<selenium.webdriver.remote.webelement.WebElement (session=\"4fd3edfa-8b61-434a-a1e5-594365d66d78\", element=\"60bcc672-4b25-4772-8e82-db14dabf5258\")>\n"
     ]
    }
   ],
   "source": [
    "from selenium import webdriver\n",
    "from selenium.webdriver.common.keys import Keys\n",
    "from selenium.webdriver.common.by import By\n",
    "import csv\n",
    "\n",
    "driver = webdriver.Firefox()\n",
    "driver.get(\"http://www.python.org\")\n",
    "assert \"Python\" in driver.title\n",
    "elem = driver.find_element(By.NAME, \"q\")\n",
    "elem.clear()\n",
    "elem.send_keys(\"pycon\")\n",
    "elem.send_keys(Keys.RETURN)\n",
    "#assert \"No results found.\" not in driver.page_source\n",
    "#row = driver.application_cache(222)\n",
    "\n",
    "#ID = \"site-map\"\n",
    "#NAME = \"name\"\n",
    "#XPATH = \"xpath\"\n",
    "#LINK_TEXT = \"link text\"\n",
    "#PARTIAL_LINK_TEXT = \"partial link text\"\n",
    "#TAG_NAME = \"tag name\"\n",
    "#CLASS_NAME = \"tier-2\"\n",
    "#CSS_SELECTOR = \"css selector\"\n",
    "\n",
    "\n",
    "#a = driver.find_element(By.ID, \"id\")\n",
    "#b = driver.find_element(By.NAME, \"name\")\n",
    "#c = driver.find_element(By.XPATH, \"xpath\")\n",
    "#d = driver.find_element(By.LINK_TEXT, \"link text\")\n",
    "#e = driver.find_element(By.PARTIAL_LINK_TEXT, \"partial link text\")\n",
    "#f = driver.find_element(By.TAG_NAME, \"tag name\")\n",
    "g = driver.find_element(By.CLASS_NAME, \"tier-2\")\n",
    "#h = driver.find_element(By.CSS_SELECTOR, \"css selector\")\n",
    "row = g\n",
    "print(row)\n",
    "text_file = open(\"data.txt\", \"w\")\n",
    " \n",
    "#write string to file\n",
    "text_file.write(str(row))\n",
    " \n",
    "#close file\n",
    "text_file.close()\n",
    " \n",
    "# close the browser\n",
    "driver.close()"
   ]
  }
 ],
 "metadata": {
  "kernelspec": {
   "display_name": "opencv",
   "language": "python",
   "name": "python3"
  },
  "language_info": {
   "codemirror_mode": {
    "name": "ipython",
    "version": 3
   },
   "file_extension": ".py",
   "mimetype": "text/x-python",
   "name": "python",
   "nbconvert_exporter": "python",
   "pygments_lexer": "ipython3",
   "version": "3.10.9"
  },
  "orig_nbformat": 4
 },
 "nbformat": 4,
 "nbformat_minor": 2
}
